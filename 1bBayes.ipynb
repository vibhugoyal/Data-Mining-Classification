{
 "cells": [
  {
   "cell_type": "markdown",
   "metadata": {},
   "source": [
    "# Naïve Bayes Classifier"
   ]
  },
  {
   "cell_type": "code",
   "execution_count": 1,
   "metadata": {},
   "outputs": [],
   "source": [
    "import pandas as pd\n",
    "import numpy as np\n",
    "import matplotlib.pyplot as plt\n",
    "from sklearn.tree import DecisionTreeClassifier\n",
    "from sklearn.ensemble import RandomForestClassifier\n",
    "from sklearn.model_selection import train_test_split\n",
    "from sklearn.metrics import accuracy_score\n",
    "from sklearn.metrics import confusion_matrix,classification_report\n",
    "import seaborn as sns\n",
    "from sklearn import datasets\n",
    "\n",
    "#Reading the CSV file and storing it in the data frame object named df\n",
    "\n",
    "df = pd.read_csv(\"https://archive.ics.uci.edu/ml/machine-learning-databases/glass/glass.data\",names=['RI','Na','Mg','Al','Si','K','Ca','Ba','Fe','class'])"
   ]
  },
  {
   "cell_type": "code",
   "execution_count": 2,
   "metadata": {},
   "outputs": [],
   "source": [
    "#Handling\n",
    "del df['Fe']\n",
    "del df['Ba']"
   ]
  },
  {
   "cell_type": "code",
   "execution_count": 3,
   "metadata": {},
   "outputs": [
    {
     "data": {
      "text/html": [
       "<div>\n",
       "<style scoped>\n",
       "    .dataframe tbody tr th:only-of-type {\n",
       "        vertical-align: middle;\n",
       "    }\n",
       "\n",
       "    .dataframe tbody tr th {\n",
       "        vertical-align: top;\n",
       "    }\n",
       "\n",
       "    .dataframe thead th {\n",
       "        text-align: right;\n",
       "    }\n",
       "</style>\n",
       "<table border=\"1\" class=\"dataframe\">\n",
       "  <thead>\n",
       "    <tr style=\"text-align: right;\">\n",
       "      <th></th>\n",
       "      <th>RI</th>\n",
       "      <th>Na</th>\n",
       "      <th>Mg</th>\n",
       "      <th>Al</th>\n",
       "      <th>Si</th>\n",
       "      <th>K</th>\n",
       "      <th>Ca</th>\n",
       "      <th>class</th>\n",
       "    </tr>\n",
       "  </thead>\n",
       "  <tbody>\n",
       "    <tr>\n",
       "      <th>1</th>\n",
       "      <td>1.52101</td>\n",
       "      <td>13.64</td>\n",
       "      <td>4.49</td>\n",
       "      <td>1.10</td>\n",
       "      <td>71.78</td>\n",
       "      <td>0.06</td>\n",
       "      <td>8.75</td>\n",
       "      <td>1</td>\n",
       "    </tr>\n",
       "    <tr>\n",
       "      <th>2</th>\n",
       "      <td>1.51761</td>\n",
       "      <td>13.89</td>\n",
       "      <td>3.60</td>\n",
       "      <td>1.36</td>\n",
       "      <td>72.73</td>\n",
       "      <td>0.48</td>\n",
       "      <td>7.83</td>\n",
       "      <td>1</td>\n",
       "    </tr>\n",
       "    <tr>\n",
       "      <th>3</th>\n",
       "      <td>1.51618</td>\n",
       "      <td>13.53</td>\n",
       "      <td>3.55</td>\n",
       "      <td>1.54</td>\n",
       "      <td>72.99</td>\n",
       "      <td>0.39</td>\n",
       "      <td>7.78</td>\n",
       "      <td>1</td>\n",
       "    </tr>\n",
       "    <tr>\n",
       "      <th>4</th>\n",
       "      <td>1.51766</td>\n",
       "      <td>13.21</td>\n",
       "      <td>3.69</td>\n",
       "      <td>1.29</td>\n",
       "      <td>72.61</td>\n",
       "      <td>0.57</td>\n",
       "      <td>8.22</td>\n",
       "      <td>1</td>\n",
       "    </tr>\n",
       "    <tr>\n",
       "      <th>5</th>\n",
       "      <td>1.51742</td>\n",
       "      <td>13.27</td>\n",
       "      <td>3.62</td>\n",
       "      <td>1.24</td>\n",
       "      <td>73.08</td>\n",
       "      <td>0.55</td>\n",
       "      <td>8.07</td>\n",
       "      <td>1</td>\n",
       "    </tr>\n",
       "    <tr>\n",
       "      <th>...</th>\n",
       "      <td>...</td>\n",
       "      <td>...</td>\n",
       "      <td>...</td>\n",
       "      <td>...</td>\n",
       "      <td>...</td>\n",
       "      <td>...</td>\n",
       "      <td>...</td>\n",
       "      <td>...</td>\n",
       "    </tr>\n",
       "    <tr>\n",
       "      <th>210</th>\n",
       "      <td>1.51623</td>\n",
       "      <td>14.14</td>\n",
       "      <td>0.00</td>\n",
       "      <td>2.88</td>\n",
       "      <td>72.61</td>\n",
       "      <td>0.08</td>\n",
       "      <td>9.18</td>\n",
       "      <td>7</td>\n",
       "    </tr>\n",
       "    <tr>\n",
       "      <th>211</th>\n",
       "      <td>1.51685</td>\n",
       "      <td>14.92</td>\n",
       "      <td>0.00</td>\n",
       "      <td>1.99</td>\n",
       "      <td>73.06</td>\n",
       "      <td>0.00</td>\n",
       "      <td>8.40</td>\n",
       "      <td>7</td>\n",
       "    </tr>\n",
       "    <tr>\n",
       "      <th>212</th>\n",
       "      <td>1.52065</td>\n",
       "      <td>14.36</td>\n",
       "      <td>0.00</td>\n",
       "      <td>2.02</td>\n",
       "      <td>73.42</td>\n",
       "      <td>0.00</td>\n",
       "      <td>8.44</td>\n",
       "      <td>7</td>\n",
       "    </tr>\n",
       "    <tr>\n",
       "      <th>213</th>\n",
       "      <td>1.51651</td>\n",
       "      <td>14.38</td>\n",
       "      <td>0.00</td>\n",
       "      <td>1.94</td>\n",
       "      <td>73.61</td>\n",
       "      <td>0.00</td>\n",
       "      <td>8.48</td>\n",
       "      <td>7</td>\n",
       "    </tr>\n",
       "    <tr>\n",
       "      <th>214</th>\n",
       "      <td>1.51711</td>\n",
       "      <td>14.23</td>\n",
       "      <td>0.00</td>\n",
       "      <td>2.08</td>\n",
       "      <td>73.36</td>\n",
       "      <td>0.00</td>\n",
       "      <td>8.62</td>\n",
       "      <td>7</td>\n",
       "    </tr>\n",
       "  </tbody>\n",
       "</table>\n",
       "<p>214 rows × 8 columns</p>\n",
       "</div>"
      ],
      "text/plain": [
       "          RI     Na    Mg    Al     Si     K    Ca  class\n",
       "1    1.52101  13.64  4.49  1.10  71.78  0.06  8.75      1\n",
       "2    1.51761  13.89  3.60  1.36  72.73  0.48  7.83      1\n",
       "3    1.51618  13.53  3.55  1.54  72.99  0.39  7.78      1\n",
       "4    1.51766  13.21  3.69  1.29  72.61  0.57  8.22      1\n",
       "5    1.51742  13.27  3.62  1.24  73.08  0.55  8.07      1\n",
       "..       ...    ...   ...   ...    ...   ...   ...    ...\n",
       "210  1.51623  14.14  0.00  2.88  72.61  0.08  9.18      7\n",
       "211  1.51685  14.92  0.00  1.99  73.06  0.00  8.40      7\n",
       "212  1.52065  14.36  0.00  2.02  73.42  0.00  8.44      7\n",
       "213  1.51651  14.38  0.00  1.94  73.61  0.00  8.48      7\n",
       "214  1.51711  14.23  0.00  2.08  73.36  0.00  8.62      7\n",
       "\n",
       "[214 rows x 8 columns]"
      ]
     },
     "execution_count": 3,
     "metadata": {},
     "output_type": "execute_result"
    }
   ],
   "source": [
    "df"
   ]
  },
  {
   "cell_type": "code",
   "execution_count": 4,
   "metadata": {},
   "outputs": [
    {
     "name": "stdout",
     "output_type": "stream",
     "text": [
      "214\n"
     ]
    }
   ],
   "source": [
    "n= df.shape[0]  ## n denotes no. of rows or data instances\n",
    "print(n)"
   ]
  },
  {
   "cell_type": "code",
   "execution_count": 5,
   "metadata": {},
   "outputs": [],
   "source": [
    "from sklearn import tree\n",
    "\n",
    "y = df['class']\n",
    "X = df.drop('class',axis=1)"
   ]
  },
  {
   "cell_type": "code",
   "execution_count": 6,
   "metadata": {},
   "outputs": [],
   "source": [
    "X_train,X_test,y_train,y_test = train_test_split(X,y,test_size=0.3,random_state = 100)"
   ]
  },
  {
   "cell_type": "code",
   "execution_count": 7,
   "metadata": {},
   "outputs": [],
   "source": [
    "from sklearn.naive_bayes import GaussianNB\n",
    "gnb=GaussianNB()\n",
    "gnb.fit(X_train,y_train)\n",
    "y_pred=gnb.predict(X_test)"
   ]
  },
  {
   "cell_type": "code",
   "execution_count": 8,
   "metadata": {},
   "outputs": [
    {
     "name": "stdout",
     "output_type": "stream",
     "text": [
      "0.46153846153846156\n"
     ]
    }
   ],
   "source": [
    "print(accuracy_score(y_test, y_pred))"
   ]
  },
  {
   "cell_type": "markdown",
   "metadata": {},
   "source": [
    "## Confusion Matrix"
   ]
  },
  {
   "cell_type": "code",
   "execution_count": 9,
   "metadata": {},
   "outputs": [
    {
     "data": {
      "text/plain": [
       "array([[17,  0,  0,  0,  0,  0],\n",
       "       [21,  2,  0,  0,  2,  0],\n",
       "       [ 2,  0,  1,  0,  0,  0],\n",
       "       [ 0,  2,  0,  3,  0,  4],\n",
       "       [ 0,  0,  0,  0,  3,  0],\n",
       "       [ 0,  1,  0,  0,  3,  4]], dtype=int64)"
      ]
     },
     "execution_count": 9,
     "metadata": {},
     "output_type": "execute_result"
    }
   ],
   "source": [
    "confusion_matrix(y_test,y_pred)"
   ]
  },
  {
   "cell_type": "code",
   "execution_count": 10,
   "metadata": {},
   "outputs": [
    {
     "data": {
      "text/plain": [
       "Text(91.68, 0.5, 'predicted label')"
      ]
     },
     "execution_count": 10,
     "metadata": {},
     "output_type": "execute_result"
    },
    {
     "data": {
      "image/png": "[encoded data removed]",
      "text/plain": [
       "<Figure size 432x288 with 1 Axes>"
      ]
     },
     "metadata": {
      "needs_background": "light"
     },
     "output_type": "display_data"
    }
   ],
   "source": [
    "from sklearn.metrics import confusion_matrix\n",
    "mat = confusion_matrix(y_test, y_pred)\n",
    "sns.heatmap(mat.T, square=True, annot=True, fmt='d', cbar=False)\n",
    "plt.xlabel('true label')\n",
    "plt.ylabel('predicted label')"
   ]
  },
  {
   "cell_type": "markdown",
   "metadata": {},
   "source": [
    "# Tuning using GridSearch CV"
   ]
  },
  {
   "cell_type": "code",
   "execution_count": 24,
   "metadata": {},
   "outputs": [
    {
     "name": "stdout",
     "output_type": "stream",
     "text": [
      "Fitting 10 folds for each of 100 candidates, totalling 1000 fits\n"
     ]
    },
    {
     "name": "stderr",
     "output_type": "stream",
     "text": [
      "C:\\Users\\VIBHU GOYAL\\anaconda3\\lib\\site-packages\\sklearn\\model_selection\\_split.py:667: UserWarning: The least populated class in y has only 4 members, which is less than n_splits=10.\n",
      "  % (min_groups, self.n_splits)), UserWarning)\n",
      "[Parallel(n_jobs=-1)]: Using backend LokyBackend with 8 concurrent workers.\n",
      "[Parallel(n_jobs=-1)]: Done  56 tasks      | elapsed:    0.0s\n"
     ]
    },
    {
     "name": "stdout",
     "output_type": "stream",
     "text": [
      "GaussianNB(priors=None, var_smoothing=0.003511191734215131)\n"
     ]
    },
    {
     "name": "stderr",
     "output_type": "stream",
     "text": [
      "[Parallel(n_jobs=-1)]: Done 1000 out of 1000 | elapsed:    0.8s finished\n"
     ]
    }
   ],
   "source": [
    "from sklearn.naive_bayes import GaussianNB\n",
    "\n",
    "from sklearn.model_selection import GridSearchCV\n",
    "\n",
    "param_grid_nb = {\n",
    "    'var_smoothing': np.logspace(0,-9, num=100)\n",
    "}\n",
    "\n",
    "nbModel_grid = GridSearchCV(estimator=GaussianNB(), param_grid=param_grid_nb, verbose=1, cv=10, n_jobs=-1)\n",
    "nbModel_grid.fit(X_train, y_train)\n",
    "print(nbModel_grid.best_estimator_)"
   ]
  },
  {
   "cell_type": "code",
   "execution_count": 25,
   "metadata": {},
   "outputs": [
    {
     "name": "stdout",
     "output_type": "stream",
     "text": [
      "[1 7 1 1 2 1 1 1 6 6 1 2 7 1 1 1 5 1 1 1 5 7 1 7 1 1 7 1 1 1 6 1 1 2 1 7 1\n",
      " 1 1 1 1 5 1 1 1 1 1 7 1 7 1 2 1 6 7 1 1 7 5 1 2 1 7 1 6]\n"
     ]
    }
   ],
   "source": [
    "y_pred = nbModel_grid.predict(X_test)\n",
    "print(y_pred)"
   ]
  },
  {
   "cell_type": "code",
   "execution_count": 26,
   "metadata": {},
   "outputs": [
    {
     "name": "stdout",
     "output_type": "stream",
     "text": [
      "[[16  1  0  0  0  0]\n",
      " [21  2  0  0  2  0]\n",
      " [ 3  0  0  0  0  0]\n",
      " [ 0  2  0  4  0  3]\n",
      " [ 0  0  0  0  3  0]\n",
      " [ 0  0  0  0  0  8]]\n"
     ]
    }
   ],
   "source": [
    "from sklearn.metrics import confusion_matrix\n",
    "print(confusion_matrix(y_test, y_pred))"
   ]
  },
  {
   "cell_type": "code",
   "execution_count": 27,
   "metadata": {},
   "outputs": [
    {
     "name": "stdout",
     "output_type": "stream",
     "text": [
      "0.5076923076923077\n"
     ]
    }
   ],
   "source": [
    "from sklearn.metrics import accuracy_score\n",
    "print(accuracy_score(y_test, y_pred))"
   ]
  },
  {
   "cell_type": "markdown",
   "metadata": {},
   "source": [
    "# K fold cross validation"
   ]
  },
  {
   "cell_type": "code",
   "execution_count": 12,
   "metadata": {},
   "outputs": [
    {
     "name": "stdout",
     "output_type": "stream",
     "text": [
      "Test set is fold number : 1\n",
      "Accuracy score is : 0.5 \n",
      "\n",
      "Confusion Matrix is :\n",
      "\n",
      " [[9 0 0 0 1 0]\n",
      " [5 2 0 1 0 0]\n",
      " [1 0 0 0 0 0]\n",
      " [0 1 0 0 0 1]\n",
      " [0 0 0 0 0 0]\n",
      " [0 0 0 0 1 0]]\n",
      "\n",
      "Classification Report is as follows :\n",
      "\n",
      "              precision    recall  f1-score   support\n",
      "\n",
      "         1.0       0.60      0.90      0.72        10\n",
      "         2.0       0.67      0.25      0.36         8\n",
      "         3.0       0.00      0.00      0.00         1\n",
      "         5.0       0.00      0.00      0.00         2\n",
      "         6.0       0.00      0.00      0.00         0\n",
      "         7.0       0.00      0.00      0.00         1\n",
      "\n",
      "    accuracy                           0.50        22\n",
      "   macro avg       0.21      0.19      0.18        22\n",
      "weighted avg       0.52      0.50      0.46        22\n",
      "\n",
      "------------------------------------------------------------------------------------------\n",
      "Test set is fold number : 2\n",
      "Accuracy score is : 0.36363636363636365 \n",
      "\n",
      "Confusion Matrix is :\n",
      "\n",
      " [[6 0 0 0 0 0]\n",
      " [6 1 0 0 0 0]\n",
      " [4 0 0 0 0 0]\n",
      " [0 2 0 0 0 0]\n",
      " [0 0 0 0 1 0]\n",
      " [0 2 0 0 0 0]]\n",
      "\n",
      "Classification Report is as follows :\n",
      "\n",
      "              precision    recall  f1-score   support\n",
      "\n",
      "         1.0       0.38      1.00      0.55         6\n",
      "         2.0       0.20      0.14      0.17         7\n",
      "         3.0       0.00      0.00      0.00         4\n",
      "         5.0       0.00      0.00      0.00         2\n",
      "         6.0       1.00      1.00      1.00         1\n",
      "         7.0       0.00      0.00      0.00         2\n",
      "\n",
      "    accuracy                           0.36        22\n",
      "   macro avg       0.26      0.36      0.29        22\n",
      "weighted avg       0.21      0.36      0.25        22\n",
      "\n",
      "------------------------------------------------------------------------------------------\n",
      "Test set is fold number : 3\n",
      "Accuracy score is : 0.4090909090909091 \n",
      "\n",
      "Confusion Matrix is :\n",
      "\n",
      " [[6 0 0 0 0]\n",
      " [7 2 0 0 0]\n",
      " [2 0 0 0 0]\n",
      " [0 1 0 1 0]\n",
      " [0 0 0 3 0]]\n",
      "\n",
      "Classification Report is as follows :\n",
      "\n",
      "              precision    recall  f1-score   support\n",
      "\n",
      "         1.0       0.40      1.00      0.57         6\n",
      "         2.0       0.67      0.22      0.33         9\n",
      "         3.0       0.00      0.00      0.00         2\n",
      "         5.0       0.25      0.50      0.33         2\n",
      "         7.0       0.00      0.00      0.00         3\n",
      "\n",
      "    accuracy                           0.41        22\n",
      "   macro avg       0.26      0.34      0.25        22\n",
      "weighted avg       0.40      0.41      0.32        22\n",
      "\n",
      "------------------------------------------------------------------------------------------\n",
      "Test set is fold number : 4\n",
      "Accuracy score is : 0.45454545454545453 \n",
      "\n",
      "Confusion Matrix is :\n",
      "\n",
      " [[6 1 0 0 0 0]\n",
      " [5 1 0 2 0 0]\n",
      " [1 0 0 0 0 0]\n",
      " [0 0 0 0 0 0]\n",
      " [0 0 0 0 1 0]\n",
      " [1 0 0 1 1 2]]\n",
      "\n",
      "Classification Report is as follows :\n",
      "\n",
      "              precision    recall  f1-score   support\n",
      "\n",
      "         1.0       0.46      0.86      0.60         7\n",
      "         2.0       0.50      0.12      0.20         8\n",
      "         3.0       0.00      0.00      0.00         1\n",
      "         5.0       0.00      0.00      0.00         0\n",
      "         6.0       0.50      1.00      0.67         1\n",
      "         7.0       1.00      0.40      0.57         5\n",
      "\n",
      "    accuracy                           0.45        22\n",
      "   macro avg       0.41      0.40      0.34        22\n",
      "weighted avg       0.58      0.45      0.42        22\n",
      "\n",
      "------------------------------------------------------------------------------------------\n",
      "Test set is fold number : 5\n",
      "Accuracy score is : 0.47619047619047616 \n",
      "\n",
      "Confusion Matrix is :\n",
      "\n",
      " [[8 1 0 0 0]\n",
      " [4 0 0 0 0]\n",
      " [2 0 1 1 0]\n",
      " [0 0 0 1 0]\n",
      " [0 0 0 3 0]]\n",
      "\n",
      "Classification Report is as follows :\n",
      "\n",
      "              precision    recall  f1-score   support\n",
      "\n",
      "         1.0       0.57      0.89      0.70         9\n",
      "         2.0       0.00      0.00      0.00         4\n",
      "         3.0       1.00      0.25      0.40         4\n",
      "         6.0       0.20      1.00      0.33         1\n",
      "         7.0       0.00      0.00      0.00         3\n",
      "\n",
      "    accuracy                           0.48        21\n",
      "   macro avg       0.35      0.43      0.29        21\n",
      "weighted avg       0.44      0.48      0.39        21\n",
      "\n",
      "------------------------------------------------------------------------------------------\n",
      "Test set is fold number : 6\n",
      "Accuracy score is : 0.5714285714285714 \n",
      "\n",
      "Confusion Matrix is :\n",
      "\n",
      " [[7 0 0 0 0 0]\n",
      " [5 3 0 0 0 0]\n",
      " [1 0 0 0 0 0]\n",
      " [0 0 0 1 0 0]\n",
      " [0 0 0 0 0 0]\n",
      " [0 0 0 0 3 1]]\n",
      "\n",
      "Classification Report is as follows :\n",
      "\n",
      "              precision    recall  f1-score   support\n",
      "\n",
      "         1.0       0.54      1.00      0.70         7\n",
      "         2.0       1.00      0.38      0.55         8\n",
      "         3.0       0.00      0.00      0.00         1\n",
      "         5.0       1.00      1.00      1.00         1\n",
      "         6.0       0.00      0.00      0.00         0\n",
      "         7.0       1.00      0.25      0.40         4\n",
      "\n",
      "    accuracy                           0.57        21\n",
      "   macro avg       0.59      0.44      0.44        21\n",
      "weighted avg       0.80      0.57      0.56        21\n",
      "\n",
      "------------------------------------------------------------------------------------------\n",
      "Test set is fold number : 7\n",
      "Accuracy score is : 0.3333333333333333 \n",
      "\n",
      "Confusion Matrix is :\n",
      "\n",
      " [[5 2 0 0 0 0]\n",
      " [4 0 0 2 0 0]\n",
      " [1 0 0 0 0 0]\n",
      " [0 2 0 0 0 0]\n",
      " [0 0 0 0 1 1]\n",
      " [0 0 0 0 2 1]]\n",
      "\n",
      "Classification Report is as follows :\n",
      "\n",
      "              precision    recall  f1-score   support\n",
      "\n",
      "         1.0       0.50      0.71      0.59         7\n",
      "         2.0       0.00      0.00      0.00         6\n",
      "         3.0       0.00      0.00      0.00         1\n",
      "         5.0       0.00      0.00      0.00         2\n",
      "         6.0       0.33      0.50      0.40         2\n",
      "         7.0       0.50      0.33      0.40         3\n",
      "\n",
      "    accuracy                           0.33        21\n",
      "   macro avg       0.22      0.26      0.23        21\n",
      "weighted avg       0.27      0.33      0.29        21\n",
      "\n",
      "------------------------------------------------------------------------------------------\n",
      "Test set is fold number : 8\n",
      "Accuracy score is : 0.42857142857142855 \n",
      "\n",
      "Confusion Matrix is :\n",
      "\n",
      " [[4 1 1 0 0 0]\n",
      " [5 3 0 1 1 0]\n",
      " [1 0 0 0 0 0]\n",
      " [0 0 0 0 0 0]\n",
      " [0 0 0 0 2 0]\n",
      " [0 0 0 0 2 0]]\n",
      "\n",
      "Classification Report is as follows :\n",
      "\n",
      "              precision    recall  f1-score   support\n",
      "\n",
      "         1.0       0.40      0.67      0.50         6\n",
      "         2.0       0.75      0.30      0.43        10\n",
      "         3.0       0.00      0.00      0.00         1\n",
      "         5.0       0.00      0.00      0.00         0\n",
      "         6.0       0.40      1.00      0.57         2\n",
      "         7.0       0.00      0.00      0.00         2\n",
      "\n",
      "    accuracy                           0.43        21\n",
      "   macro avg       0.26      0.33      0.25        21\n",
      "weighted avg       0.51      0.43      0.40        21\n",
      "\n",
      "------------------------------------------------------------------------------------------\n",
      "Test set is fold number : 9\n",
      "Accuracy score is : 0.19047619047619047 \n",
      "\n",
      "Confusion Matrix is :\n",
      "\n",
      " [[1 1 1 0 0 0]\n",
      " [7 0 0 0 1 1]\n",
      " [2 0 0 0 0 0]\n",
      " [0 1 0 1 0 0]\n",
      " [0 0 0 0 0 0]\n",
      " [0 0 0 0 3 2]]\n",
      "\n",
      "Classification Report is as follows :\n",
      "\n",
      "              precision    recall  f1-score   support\n",
      "\n",
      "         1.0       0.10      0.33      0.15         3\n",
      "         2.0       0.00      0.00      0.00         9\n",
      "         3.0       0.00      0.00      0.00         2\n",
      "         5.0       1.00      0.50      0.67         2\n",
      "         6.0       0.00      0.00      0.00         0\n",
      "         7.0       0.67      0.40      0.50         5\n",
      "\n",
      "    accuracy                           0.19        21\n",
      "   macro avg       0.29      0.21      0.22        21\n",
      "weighted avg       0.27      0.19      0.20        21\n",
      "\n",
      "------------------------------------------------------------------------------------------\n",
      "Test set is fold number : 10\n",
      "Accuracy score is : 0.5714285714285714 \n",
      "\n",
      "Confusion Matrix is :\n",
      "\n",
      " [[8 0 1 0 0 0]\n",
      " [4 2 0 1 0 0]\n",
      " [0 0 0 0 0 0]\n",
      " [0 2 0 0 0 0]\n",
      " [0 0 0 0 2 0]\n",
      " [0 0 0 0 1 0]]\n",
      "\n",
      "Classification Report is as follows :\n",
      "\n",
      "              precision    recall  f1-score   support\n",
      "\n",
      "         1.0       0.67      0.89      0.76         9\n",
      "         2.0       0.50      0.29      0.36         7\n",
      "         3.0       0.00      0.00      0.00         0\n",
      "         5.0       0.00      0.00      0.00         2\n",
      "         6.0       0.67      1.00      0.80         2\n",
      "         7.0       0.00      0.00      0.00         1\n",
      "\n",
      "    accuracy                           0.57        21\n",
      "   macro avg       0.31      0.36      0.32        21\n",
      "weighted avg       0.52      0.57      0.52        21\n",
      "\n",
      "------------------------------------------------------------------------------------------\n"
     ]
    },
    {
     "name": "stderr",
     "output_type": "stream",
     "text": [
      "C:\\Users\\VIBHU GOYAL\\anaconda3\\lib\\site-packages\\sklearn\\metrics\\_classification.py:1272: UndefinedMetricWarning: Precision and F-score are ill-defined and being set to 0.0 in labels with no predicted samples. Use `zero_division` parameter to control this behavior.\n",
      "  _warn_prf(average, modifier, msg_start, len(result))\n",
      "C:\\Users\\VIBHU GOYAL\\anaconda3\\lib\\site-packages\\sklearn\\metrics\\_classification.py:1272: UndefinedMetricWarning: Recall and F-score are ill-defined and being set to 0.0 in labels with no true samples. Use `zero_division` parameter to control this behavior.\n",
      "  _warn_prf(average, modifier, msg_start, len(result))\n",
      "C:\\Users\\VIBHU GOYAL\\anaconda3\\lib\\site-packages\\sklearn\\metrics\\_classification.py:1272: UndefinedMetricWarning: Precision and F-score are ill-defined and being set to 0.0 in labels with no predicted samples. Use `zero_division` parameter to control this behavior.\n",
      "  _warn_prf(average, modifier, msg_start, len(result))\n",
      "C:\\Users\\VIBHU GOYAL\\anaconda3\\lib\\site-packages\\sklearn\\metrics\\_classification.py:1272: UndefinedMetricWarning: Precision and F-score are ill-defined and being set to 0.0 in labels with no predicted samples. Use `zero_division` parameter to control this behavior.\n",
      "  _warn_prf(average, modifier, msg_start, len(result))\n",
      "C:\\Users\\VIBHU GOYAL\\anaconda3\\lib\\site-packages\\sklearn\\metrics\\_classification.py:1272: UndefinedMetricWarning: Precision and F-score are ill-defined and being set to 0.0 in labels with no predicted samples. Use `zero_division` parameter to control this behavior.\n",
      "  _warn_prf(average, modifier, msg_start, len(result))\n",
      "C:\\Users\\VIBHU GOYAL\\anaconda3\\lib\\site-packages\\sklearn\\metrics\\_classification.py:1272: UndefinedMetricWarning: Recall and F-score are ill-defined and being set to 0.0 in labels with no true samples. Use `zero_division` parameter to control this behavior.\n",
      "  _warn_prf(average, modifier, msg_start, len(result))\n",
      "C:\\Users\\VIBHU GOYAL\\anaconda3\\lib\\site-packages\\sklearn\\metrics\\_classification.py:1272: UndefinedMetricWarning: Precision and F-score are ill-defined and being set to 0.0 in labels with no predicted samples. Use `zero_division` parameter to control this behavior.\n",
      "  _warn_prf(average, modifier, msg_start, len(result))\n",
      "C:\\Users\\VIBHU GOYAL\\anaconda3\\lib\\site-packages\\sklearn\\metrics\\_classification.py:1272: UndefinedMetricWarning: Precision and F-score are ill-defined and being set to 0.0 in labels with no predicted samples. Use `zero_division` parameter to control this behavior.\n",
      "  _warn_prf(average, modifier, msg_start, len(result))\n",
      "C:\\Users\\VIBHU GOYAL\\anaconda3\\lib\\site-packages\\sklearn\\metrics\\_classification.py:1272: UndefinedMetricWarning: Recall and F-score are ill-defined and being set to 0.0 in labels with no true samples. Use `zero_division` parameter to control this behavior.\n",
      "  _warn_prf(average, modifier, msg_start, len(result))\n",
      "C:\\Users\\VIBHU GOYAL\\anaconda3\\lib\\site-packages\\sklearn\\metrics\\_classification.py:1272: UndefinedMetricWarning: Precision and F-score are ill-defined and being set to 0.0 in labels with no predicted samples. Use `zero_division` parameter to control this behavior.\n",
      "  _warn_prf(average, modifier, msg_start, len(result))\n",
      "C:\\Users\\VIBHU GOYAL\\anaconda3\\lib\\site-packages\\sklearn\\metrics\\_classification.py:1272: UndefinedMetricWarning: Precision and F-score are ill-defined and being set to 0.0 in labels with no predicted samples. Use `zero_division` parameter to control this behavior.\n",
      "  _warn_prf(average, modifier, msg_start, len(result))\n",
      "C:\\Users\\VIBHU GOYAL\\anaconda3\\lib\\site-packages\\sklearn\\metrics\\_classification.py:1272: UndefinedMetricWarning: Recall and F-score are ill-defined and being set to 0.0 in labels with no true samples. Use `zero_division` parameter to control this behavior.\n",
      "  _warn_prf(average, modifier, msg_start, len(result))\n",
      "C:\\Users\\VIBHU GOYAL\\anaconda3\\lib\\site-packages\\sklearn\\metrics\\_classification.py:1272: UndefinedMetricWarning: Recall and F-score are ill-defined and being set to 0.0 in labels with no true samples. Use `zero_division` parameter to control this behavior.\n",
      "  _warn_prf(average, modifier, msg_start, len(result))\n",
      "C:\\Users\\VIBHU GOYAL\\anaconda3\\lib\\site-packages\\sklearn\\metrics\\_classification.py:1272: UndefinedMetricWarning: Precision and F-score are ill-defined and being set to 0.0 in labels with no predicted samples. Use `zero_division` parameter to control this behavior.\n",
      "  _warn_prf(average, modifier, msg_start, len(result))\n",
      "C:\\Users\\VIBHU GOYAL\\anaconda3\\lib\\site-packages\\sklearn\\metrics\\_classification.py:1272: UndefinedMetricWarning: Recall and F-score are ill-defined and being set to 0.0 in labels with no true samples. Use `zero_division` parameter to control this behavior.\n",
      "  _warn_prf(average, modifier, msg_start, len(result))\n"
     ]
    }
   ],
   "source": [
    "## making our folds\n",
    "## Randomly Shuffle the data\n",
    "df=df.sample(frac=1)\n",
    "\n",
    "k = 10\n",
    "folds = np.array_split(df, k)\n",
    "\n",
    "## function to perform our accuracy testing\n",
    "\n",
    "def perform(Train, test):\n",
    "    # remove labels from data\n",
    "    \"\"\"\n",
    "    train_labels = train_set.pop('class').values\n",
    "    test_labels = test_set.pop('class').values\n",
    "    clf.fit(train_set, train_labels)\n",
    "    \n",
    "    print(\"Accuracy Score is:\",clf.score(test_set, test_labels))\n",
    "    \"\"\"\n",
    "    \n",
    "    X_train=Train.values[:,:7]\n",
    "    X_test=Train.values[:,7]\n",
    "    y_train=test.values[:,:7]\n",
    "    y_test=test.values[:,7]\n",
    "    \n",
    "    gnb=GaussianNB()\n",
    "    gnb.fit(X_train,X_test)\n",
    "    y_pred=gnb.predict(y_train)  # getting predictions from the classifier\n",
    "    \n",
    "    \n",
    "    print(\"Accuracy score is :\",accuracy_score(y_test,y_pred),'\\n') # calculating accuracy\n",
    "    print(\"Confusion Matrix is :\\n\\n\",confusion_matrix(y_test,y_pred))\n",
    "    print(\"\\nClassification Report is as follows :\\n\")\n",
    "    print(classification_report(y_test,y_pred))\n",
    "\n",
    "for i in range(k):\n",
    "    train = folds.copy() ##you wanna work on a copy of your array\n",
    "    test = folds[i]\n",
    "    del train[i]\n",
    "    train = pd.concat(train, sort=False)\n",
    "    print(\"Test set is fold number :\",i+1)\n",
    "    perform(train.copy(), test.copy()) ##do the fitting, here you also want to copy\n",
    "    print(\"------------------------------------------------------------------------------------------\")\n",
    "    \n",
    "##In this function you remove the label column from your sets and fit the scikit-classifier (clf) and then return the prediction."
   ]
  }
 ],
 "metadata": {
  "kernelspec": {
   "display_name": "Python 3",
   "language": "python",
   "name": "python3"
  },
  "language_info": {
   "codemirror_mode": {
    "name": "ipython",
    "version": 3
   },
   "file_extension": ".py",
   "mimetype": "text/x-python",
   "name": "python",
   "nbconvert_exporter": "python",
   "pygments_lexer": "ipython3",
   "version": "3.7.6"
  }
 },
 "nbformat": 4,
 "nbformat_minor": 4
}
