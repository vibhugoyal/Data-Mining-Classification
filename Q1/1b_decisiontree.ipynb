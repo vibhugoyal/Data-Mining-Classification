{
 "cells": [
  {
   "cell_type": "markdown",
   "metadata": {},
   "source": [
    "# Decison Tree"
   ]
  },
  {
   "cell_type": "code",
   "execution_count": 1,
   "metadata": {},
   "outputs": [],
   "source": [
    "import pandas as pd\n",
    "import numpy as np\n",
    "import matplotlib.pyplot as plt\n",
    "from sklearn.tree import DecisionTreeClassifier\n",
    "from sklearn.ensemble import RandomForestClassifier\n",
    "from sklearn.model_selection import train_test_split\n",
    "from sklearn.metrics import accuracy_score\n",
    "from sklearn.metrics import confusion_matrix,classification_report\n",
    "import seaborn as sns\n",
    "from sklearn import datasets\n",
    "\n",
    "#Reading the CSV file and storing it in the data frame object named df\n",
    "\n",
    "df = pd.read_csv(\"https://archive.ics.uci.edu/ml/machine-learning-databases/glass/glass.data\",names=['RI','Na','Mg','Al','Si','K','Ca','Ba','Fe','class'])"
   ]
  },
  {
   "cell_type": "code",
   "execution_count": 2,
   "metadata": {},
   "outputs": [],
   "source": [
    "#Handling\n",
    "del df['Fe']\n",
    "del df['Ba']"
   ]
  },
  {
   "cell_type": "code",
   "execution_count": 3,
   "metadata": {},
   "outputs": [
    {
     "data": {
      "text/html": [
       "<div>\n",
       "<style scoped>\n",
       "    .dataframe tbody tr th:only-of-type {\n",
       "        vertical-align: middle;\n",
       "    }\n",
       "\n",
       "    .dataframe tbody tr th {\n",
       "        vertical-align: top;\n",
       "    }\n",
       "\n",
       "    .dataframe thead th {\n",
       "        text-align: right;\n",
       "    }\n",
       "</style>\n",
       "<table border=\"1\" class=\"dataframe\">\n",
       "  <thead>\n",
       "    <tr style=\"text-align: right;\">\n",
       "      <th></th>\n",
       "      <th>RI</th>\n",
       "      <th>Na</th>\n",
       "      <th>Mg</th>\n",
       "      <th>Al</th>\n",
       "      <th>Si</th>\n",
       "      <th>K</th>\n",
       "      <th>Ca</th>\n",
       "      <th>class</th>\n",
       "    </tr>\n",
       "  </thead>\n",
       "  <tbody>\n",
       "    <tr>\n",
       "      <th>1</th>\n",
       "      <td>1.52101</td>\n",
       "      <td>13.64</td>\n",
       "      <td>4.49</td>\n",
       "      <td>1.10</td>\n",
       "      <td>71.78</td>\n",
       "      <td>0.06</td>\n",
       "      <td>8.75</td>\n",
       "      <td>1</td>\n",
       "    </tr>\n",
       "    <tr>\n",
       "      <th>2</th>\n",
       "      <td>1.51761</td>\n",
       "      <td>13.89</td>\n",
       "      <td>3.60</td>\n",
       "      <td>1.36</td>\n",
       "      <td>72.73</td>\n",
       "      <td>0.48</td>\n",
       "      <td>7.83</td>\n",
       "      <td>1</td>\n",
       "    </tr>\n",
       "    <tr>\n",
       "      <th>3</th>\n",
       "      <td>1.51618</td>\n",
       "      <td>13.53</td>\n",
       "      <td>3.55</td>\n",
       "      <td>1.54</td>\n",
       "      <td>72.99</td>\n",
       "      <td>0.39</td>\n",
       "      <td>7.78</td>\n",
       "      <td>1</td>\n",
       "    </tr>\n",
       "    <tr>\n",
       "      <th>4</th>\n",
       "      <td>1.51766</td>\n",
       "      <td>13.21</td>\n",
       "      <td>3.69</td>\n",
       "      <td>1.29</td>\n",
       "      <td>72.61</td>\n",
       "      <td>0.57</td>\n",
       "      <td>8.22</td>\n",
       "      <td>1</td>\n",
       "    </tr>\n",
       "    <tr>\n",
       "      <th>5</th>\n",
       "      <td>1.51742</td>\n",
       "      <td>13.27</td>\n",
       "      <td>3.62</td>\n",
       "      <td>1.24</td>\n",
       "      <td>73.08</td>\n",
       "      <td>0.55</td>\n",
       "      <td>8.07</td>\n",
       "      <td>1</td>\n",
       "    </tr>\n",
       "    <tr>\n",
       "      <th>...</th>\n",
       "      <td>...</td>\n",
       "      <td>...</td>\n",
       "      <td>...</td>\n",
       "      <td>...</td>\n",
       "      <td>...</td>\n",
       "      <td>...</td>\n",
       "      <td>...</td>\n",
       "      <td>...</td>\n",
       "    </tr>\n",
       "    <tr>\n",
       "      <th>210</th>\n",
       "      <td>1.51623</td>\n",
       "      <td>14.14</td>\n",
       "      <td>0.00</td>\n",
       "      <td>2.88</td>\n",
       "      <td>72.61</td>\n",
       "      <td>0.08</td>\n",
       "      <td>9.18</td>\n",
       "      <td>7</td>\n",
       "    </tr>\n",
       "    <tr>\n",
       "      <th>211</th>\n",
       "      <td>1.51685</td>\n",
       "      <td>14.92</td>\n",
       "      <td>0.00</td>\n",
       "      <td>1.99</td>\n",
       "      <td>73.06</td>\n",
       "      <td>0.00</td>\n",
       "      <td>8.40</td>\n",
       "      <td>7</td>\n",
       "    </tr>\n",
       "    <tr>\n",
       "      <th>212</th>\n",
       "      <td>1.52065</td>\n",
       "      <td>14.36</td>\n",
       "      <td>0.00</td>\n",
       "      <td>2.02</td>\n",
       "      <td>73.42</td>\n",
       "      <td>0.00</td>\n",
       "      <td>8.44</td>\n",
       "      <td>7</td>\n",
       "    </tr>\n",
       "    <tr>\n",
       "      <th>213</th>\n",
       "      <td>1.51651</td>\n",
       "      <td>14.38</td>\n",
       "      <td>0.00</td>\n",
       "      <td>1.94</td>\n",
       "      <td>73.61</td>\n",
       "      <td>0.00</td>\n",
       "      <td>8.48</td>\n",
       "      <td>7</td>\n",
       "    </tr>\n",
       "    <tr>\n",
       "      <th>214</th>\n",
       "      <td>1.51711</td>\n",
       "      <td>14.23</td>\n",
       "      <td>0.00</td>\n",
       "      <td>2.08</td>\n",
       "      <td>73.36</td>\n",
       "      <td>0.00</td>\n",
       "      <td>8.62</td>\n",
       "      <td>7</td>\n",
       "    </tr>\n",
       "  </tbody>\n",
       "</table>\n",
       "<p>214 rows × 8 columns</p>\n",
       "</div>"
      ],
      "text/plain": [
       "          RI     Na    Mg    Al     Si     K    Ca  class\n",
       "1    1.52101  13.64  4.49  1.10  71.78  0.06  8.75      1\n",
       "2    1.51761  13.89  3.60  1.36  72.73  0.48  7.83      1\n",
       "3    1.51618  13.53  3.55  1.54  72.99  0.39  7.78      1\n",
       "4    1.51766  13.21  3.69  1.29  72.61  0.57  8.22      1\n",
       "5    1.51742  13.27  3.62  1.24  73.08  0.55  8.07      1\n",
       "..       ...    ...   ...   ...    ...   ...   ...    ...\n",
       "210  1.51623  14.14  0.00  2.88  72.61  0.08  9.18      7\n",
       "211  1.51685  14.92  0.00  1.99  73.06  0.00  8.40      7\n",
       "212  1.52065  14.36  0.00  2.02  73.42  0.00  8.44      7\n",
       "213  1.51651  14.38  0.00  1.94  73.61  0.00  8.48      7\n",
       "214  1.51711  14.23  0.00  2.08  73.36  0.00  8.62      7\n",
       "\n",
       "[214 rows x 8 columns]"
      ]
     },
     "execution_count": 3,
     "metadata": {},
     "output_type": "execute_result"
    }
   ],
   "source": [
    "df"
   ]
  },
  {
   "cell_type": "code",
   "execution_count": 4,
   "metadata": {},
   "outputs": [
    {
     "name": "stdout",
     "output_type": "stream",
     "text": [
      "214\n"
     ]
    }
   ],
   "source": [
    "n= df.shape[0]  ## n denotes no. of rows or data instances\n",
    "print(n)"
   ]
  },
  {
   "cell_type": "markdown",
   "metadata": {},
   "source": [
    "## Decision Tree Classifier"
   ]
  },
  {
   "cell_type": "markdown",
   "metadata": {},
   "source": [
    "Important Hyperparameters\n",
    "\n",
    "1. criterion {“gini”, “entropy”}, default=”gini”\n",
    "2. splitter {“best”, “random”}, default=”best”\n",
    "3. max_depth int, default=None\n",
    "4. random_stateint, RandomState instance or None, default=None"
   ]
  },
  {
   "cell_type": "code",
   "execution_count": 5,
   "metadata": {},
   "outputs": [],
   "source": [
    "from sklearn import tree\n",
    "\n",
    "Y = df['class']\n",
    "X = df.drop('class',axis=1)\n",
    "\n",
    "clf = tree.DecisionTreeClassifier(criterion='entropy',max_depth=3)  #Parameters\n",
    "clf = clf.fit(X, Y)"
   ]
  },
  {
   "cell_type": "code",
   "execution_count": 6,
   "metadata": {},
   "outputs": [
    {
     "data": {
      "text/plain": [
       "DecisionTreeClassifier(ccp_alpha=0.0, class_weight=None, criterion='entropy',\n",
       "                       max_depth=3, max_features=None, max_leaf_nodes=None,\n",
       "                       min_impurity_decrease=0.0, min_impurity_split=None,\n",
       "                       min_samples_leaf=1, min_samples_split=2,\n",
       "                       min_weight_fraction_leaf=0.0, presort='deprecated',\n",
       "                       random_state=None, splitter='best')"
      ]
     },
     "execution_count": 6,
     "metadata": {},
     "output_type": "execute_result"
    }
   ],
   "source": [
    "clf"
   ]
  },
  {
   "cell_type": "code",
   "execution_count": 7,
   "metadata": {},
   "outputs": [
    {
     "data": {
      "image/png": "[encoded data removed]",
      "text/plain": [
       "<IPython.core.display.Image object>"
      ]
     },
     "execution_count": 7,
     "metadata": {},
     "output_type": "execute_result"
    }
   ],
   "source": [
    "from graphviz import Digraph\n",
    "import pydotplus\n",
    "from IPython.display import Image\n",
    "\n",
    "dot_data = tree.export_graphviz(clf, feature_names=X.columns, class_names=['1','2','3','4','5','6','7'], filled=True,out_file=None) \n",
    "graph = pydotplus.graph_from_dot_data(dot_data) \n",
    "Image(graph.create_png())"
   ]
  },
  {
   "cell_type": "code",
   "execution_count": 8,
   "metadata": {},
   "outputs": [],
   "source": [
    "# Training and Test set creation\n",
    "\n",
    "from sklearn.model_selection import train_test_split\n",
    "X_train, X_test, Y_train, Y_test = train_test_split(X, Y, test_size=0.8, random_state=1)\n",
    "\n",
    "from sklearn import tree\n",
    "from sklearn.metrics import accuracy_score\n"
   ]
  },
  {
   "cell_type": "markdown",
   "metadata": {},
   "source": [
    "## Max_depth hyperparameter variation"
   ]
  },
  {
   "cell_type": "code",
   "execution_count": 9,
   "metadata": {},
   "outputs": [],
   "source": [
    "# Model fitting and evaluation\n",
    "\n",
    "maxdepths = [2,3,4,5,6,7,8,9,10,15,20,25,30,35,40,45,50]\n",
    "\n",
    "trainAcc = np.zeros(len(maxdepths))\n",
    "testAcc = np.zeros(len(maxdepths))\n",
    "\n",
    "index = 0\n",
    "for depth in maxdepths:\n",
    "    clf = tree.DecisionTreeClassifier(max_depth=depth)\n",
    "    clf = clf.fit(X_train, Y_train)\n",
    "    Y_predTrain = clf.predict(X_train)\n",
    "    Y_predTest = clf.predict(X_test)\n",
    "    trainAcc[index] = accuracy_score(Y_train, Y_predTrain)\n",
    "    testAcc[index] = accuracy_score(Y_test, Y_predTest)\n",
    "    index += 1"
   ]
  },
  {
   "cell_type": "code",
   "execution_count": 10,
   "metadata": {},
   "outputs": [
    {
     "data": {
      "text/plain": [
       "Text(0, 0.5, 'Accuracy')"
      ]
     },
     "execution_count": 10,
     "metadata": {},
     "output_type": "execute_result"
    },
    {
     "data": {
      "image/png": "[encoded data removed]",
      "text/plain": [
       "<Figure size 432x288 with 1 Axes>"
      ]
     },
     "metadata": {
      "needs_background": "light"
     },
     "output_type": "display_data"
    }
   ],
   "source": [
    "# Plot of training and test accuracies\n",
    "    \n",
    "plt.plot(maxdepths,trainAcc,'ro-',maxdepths,testAcc,'bv--')\n",
    "plt.legend(['Training Accuracy','Test Accuracy'])\n",
    "plt.xlabel('Max depth')\n",
    "plt.ylabel('Accuracy')"
   ]
  },
  {
   "cell_type": "markdown",
   "metadata": {},
   "source": [
    "## We consider max depth 5"
   ]
  },
  {
   "cell_type": "markdown",
   "metadata": {},
   "source": [
    "## criterion {“gini”, “entropy”} variation"
   ]
  },
  {
   "cell_type": "code",
   "execution_count": 11,
   "metadata": {},
   "outputs": [
    {
     "data": {
      "text/plain": [
       "Text(0, 0.5, 'Accuracy')"
      ]
     },
     "execution_count": 11,
     "metadata": {},
     "output_type": "execute_result"
    },
    {
     "data": {
      "image/png": "[encoded data removed]",
      "text/plain": [
       "<Figure size 432x288 with 1 Axes>"
      ]
     },
     "metadata": {
      "needs_background": "light"
     },
     "output_type": "display_data"
    }
   ],
   "source": [
    "# Model fitting and evaluation\n",
    "\n",
    "index = 0\n",
    "criterion = ['gini','entropy']\n",
    "maxtype=[1,2]\n",
    "\n",
    "trainAcc = np.zeros(len(maxtype))\n",
    "testAcc = np.zeros(len(maxtype))\n",
    "\n",
    "for d in criterion :\n",
    "    clf = tree.DecisionTreeClassifier(max_depth=4,criterion=d)\n",
    "    clf = clf.fit(X_train, Y_train)\n",
    "    Y_predTrain = clf.predict(X_train)\n",
    "    Y_predTest = clf.predict(X_test)\n",
    "    trainAcc[index] = accuracy_score(Y_train, Y_predTrain)\n",
    "    testAcc[index] = accuracy_score(Y_test, Y_predTest)\n",
    "    index += 1\n",
    "    \n",
    "# Plot of training and test accuracies\n",
    "    \n",
    "plt.plot([1,2],trainAcc,'ro-',maxtype,testAcc,'bv--')\n",
    "plt.legend(['Training Accuracy','Test Accuracy'])\n",
    "plt.xlabel('Criterion')\n",
    "plt.ylabel('Accuracy')"
   ]
  },
  {
   "cell_type": "markdown",
   "metadata": {},
   "source": [
    "### Criterion Gini give better results"
   ]
  },
  {
   "cell_type": "markdown",
   "metadata": {},
   "source": [
    "## Hyperparameter splitter variation"
   ]
  },
  {
   "cell_type": "code",
   "execution_count": 12,
   "metadata": {},
   "outputs": [
    {
     "data": {
      "text/plain": [
       "Text(0, 0.5, 'Accuracy')"
      ]
     },
     "execution_count": 12,
     "metadata": {},
     "output_type": "execute_result"
    },
    {
     "data": {
      "image/png": "[encoded data removed]",
      "text/plain": [
       "<Figure size 432x288 with 1 Axes>"
      ]
     },
     "metadata": {
      "needs_background": "light"
     },
     "output_type": "display_data"
    }
   ],
   "source": [
    "# Model fitting and evaluation\n",
    "\n",
    "index = 0\n",
    "splitter = ['best','random']\n",
    "maxtype=[1,2]\n",
    "\n",
    "trainAcc = np.zeros(len(maxtype))\n",
    "testAcc = np.zeros(len(maxtype))\n",
    "\n",
    "for d in splitter :\n",
    "    clf = tree.DecisionTreeClassifier(max_depth=4,criterion='gini',splitter=d)\n",
    "    clf = clf.fit(X_train, Y_train)\n",
    "    Y_predTrain = clf.predict(X_train)\n",
    "    Y_predTest = clf.predict(X_test)\n",
    "    trainAcc[index] = accuracy_score(Y_train, Y_predTrain)\n",
    "    testAcc[index] = accuracy_score(Y_test, Y_predTest)\n",
    "    index += 1\n",
    "    \n",
    "# Plot of training and test accuracies\n",
    "    \n",
    "plt.plot([1,2],trainAcc,'ro-',maxtype,testAcc,'bv--')\n",
    "plt.legend(['Training Accuracy','Test Accuracy'])\n",
    "plt.xlabel('Splitter')\n",
    "plt.ylabel('Accuracy')"
   ]
  },
  {
   "cell_type": "markdown",
   "metadata": {},
   "source": [
    "###  splitter random give slightly better accuracy"
   ]
  },
  {
   "cell_type": "markdown",
   "metadata": {},
   "source": [
    "## Hyperparameter Random State variation"
   ]
  },
  {
   "cell_type": "code",
   "execution_count": 13,
   "metadata": {},
   "outputs": [
    {
     "data": {
      "text/plain": [
       "Text(0, 0.5, 'Accuracy')"
      ]
     },
     "execution_count": 13,
     "metadata": {},
     "output_type": "execute_result"
    },
    {
     "data": {
      "image/png": "[encoded data removed]",
      "text/plain": [
       "<Figure size 432x288 with 1 Axes>"
      ]
     },
     "metadata": {
      "needs_background": "light"
     },
     "output_type": "display_data"
    }
   ],
   "source": [
    "# Model fitting and evaluation\n",
    "\n",
    "ram_state = [0,10,20,30,40,50,60,70,80,100]\n",
    "\n",
    "trainAcc = np.zeros(len(ram_state))\n",
    "testAcc = np.zeros(len(ram_state))\n",
    "\n",
    "index = 0\n",
    "for state in ram_state:\n",
    "    clf = tree.DecisionTreeClassifier(max_depth=5,criterion='gini',random_state=state)\n",
    "    clf = clf.fit(X_train, Y_train)\n",
    "    Y_predTrain = clf.predict(X_train)\n",
    "    Y_predTest = clf.predict(X_test)\n",
    "    trainAcc[index] = accuracy_score(Y_train, Y_predTrain)\n",
    "    testAcc[index] = accuracy_score(Y_test, Y_predTest)\n",
    "    index += 1\n",
    "    \n",
    "    \n",
    "# Plot of training and test accuracies\n",
    "    \n",
    "plt.plot(ram_state,trainAcc,'ro-',ram_state,testAcc,'bv--')\n",
    "plt.legend(['Training Accuracy','Test Accuracy'])\n",
    "plt.xlabel('Random State')\n",
    "plt.ylabel('Accuracy')"
   ]
  },
  {
   "cell_type": "markdown",
   "metadata": {},
   "source": [
    "## Random State 60 give best test accuracy"
   ]
  },
  {
   "cell_type": "code",
   "execution_count": 14,
   "metadata": {},
   "outputs": [
    {
     "data": {
      "text/plain": [
       "DecisionTreeClassifier(ccp_alpha=0.0, class_weight=None, criterion='gini',\n",
       "                       max_depth=5, max_features=None, max_leaf_nodes=None,\n",
       "                       min_impurity_decrease=0.0, min_impurity_split=None,\n",
       "                       min_samples_leaf=1, min_samples_split=2,\n",
       "                       min_weight_fraction_leaf=0.0, presort='deprecated',\n",
       "                       random_state=60, splitter='best')"
      ]
     },
     "execution_count": 14,
     "metadata": {},
     "output_type": "execute_result"
    }
   ],
   "source": [
    "X = df.values[:,:7] \n",
    "y = df.values[:,7] \n",
    "\n",
    "X_train,X_test,y_train,y_test = train_test_split(X,y,test_size=0.3,random_state = 100)\n",
    "\n",
    "dc = DecisionTreeClassifier(max_depth=5,criterion='gini',random_state=60)\n",
    "dc.fit(X_train,y_train) "
   ]
  },
  {
   "cell_type": "code",
   "execution_count": 15,
   "metadata": {},
   "outputs": [
    {
     "data": {
      "text/plain": [
       "0.6307692307692307"
      ]
     },
     "execution_count": 15,
     "metadata": {},
     "output_type": "execute_result"
    }
   ],
   "source": [
    "y_pred = dc.predict(X_test) # getting predictions from the classifier\n",
    "accuracy_score(y_test,y_pred) # calculating accuracy"
   ]
  },
  {
   "cell_type": "markdown",
   "metadata": {},
   "source": [
    "## Confusion Matrix"
   ]
  },
  {
   "cell_type": "code",
   "execution_count": 16,
   "metadata": {},
   "outputs": [
    {
     "data": {
      "text/plain": [
       "array([[17,  0,  0,  0,  0,  0],\n",
       "       [ 6, 17,  1,  0,  1,  0],\n",
       "       [ 1,  1,  1,  0,  0,  0],\n",
       "       [ 0,  6,  0,  0,  0,  3],\n",
       "       [ 1,  1,  0,  0,  0,  1],\n",
       "       [ 1,  1,  0,  0,  0,  6]], dtype=int64)"
      ]
     },
     "execution_count": 16,
     "metadata": {},
     "output_type": "execute_result"
    }
   ],
   "source": [
    "confusion_matrix(y_test,y_pred) "
   ]
  },
  {
   "cell_type": "markdown",
   "metadata": {},
   "source": [
    "## classification report"
   ]
  },
  {
   "cell_type": "code",
   "execution_count": 17,
   "metadata": {},
   "outputs": [
    {
     "name": "stdout",
     "output_type": "stream",
     "text": [
      "              precision    recall  f1-score   support\n",
      "\n",
      "         1.0       0.65      1.00      0.79        17\n",
      "         2.0       0.65      0.68      0.67        25\n",
      "         3.0       0.50      0.33      0.40         3\n",
      "         5.0       0.00      0.00      0.00         9\n",
      "         6.0       0.00      0.00      0.00         3\n",
      "         7.0       0.60      0.75      0.67         8\n",
      "\n",
      "    accuracy                           0.63        65\n",
      "   macro avg       0.40      0.46      0.42        65\n",
      "weighted avg       0.52      0.63      0.56        65\n",
      "\n"
     ]
    },
    {
     "name": "stderr",
     "output_type": "stream",
     "text": [
      "C:\\Users\\VIBHU GOYAL\\anaconda3\\lib\\site-packages\\sklearn\\metrics\\_classification.py:1272: UndefinedMetricWarning: Precision and F-score are ill-defined and being set to 0.0 in labels with no predicted samples. Use `zero_division` parameter to control this behavior.\n",
      "  _warn_prf(average, modifier, msg_start, len(result))\n"
     ]
    }
   ],
   "source": [
    "print(classification_report(y_test,y_pred))"
   ]
  },
  {
   "cell_type": "markdown",
   "metadata": {},
   "source": [
    "## k-fold cross validation"
   ]
  },
  {
   "cell_type": "markdown",
   "metadata": {},
   "source": [
    "### Assume k=10"
   ]
  },
  {
   "cell_type": "code",
   "execution_count": 18,
   "metadata": {},
   "outputs": [],
   "source": [
    "## Randomly Shuffle the data\n",
    "df=df.sample(frac=1)"
   ]
  },
  {
   "cell_type": "code",
   "execution_count": 19,
   "metadata": {},
   "outputs": [
    {
     "name": "stdout",
     "output_type": "stream",
     "text": [
      "Test set is fold number : 1\n",
      "Accuracy score is : 0.6363636363636364 \n",
      "\n",
      "Confusion Matrix is :\n",
      "\n",
      " [[7 2 0 0 0 0]\n",
      " [3 4 1 0 0 0]\n",
      " [1 0 1 0 0 0]\n",
      " [0 0 0 1 0 0]\n",
      " [0 0 0 0 0 0]\n",
      " [0 0 0 0 1 1]]\n",
      "\n",
      "Classification Report is as follows :\n",
      "\n",
      "              precision    recall  f1-score   support\n",
      "\n",
      "         1.0       0.64      0.78      0.70         9\n",
      "         2.0       0.67      0.50      0.57         8\n",
      "         3.0       0.50      0.50      0.50         2\n",
      "         5.0       1.00      1.00      1.00         1\n",
      "         6.0       0.00      0.00      0.00         0\n",
      "         7.0       1.00      0.50      0.67         2\n",
      "\n",
      "    accuracy                           0.64        22\n",
      "   macro avg       0.63      0.55      0.57        22\n",
      "weighted avg       0.68      0.64      0.65        22\n",
      "\n",
      "------------------------------------------------------------------------------------------\n",
      "Test set is fold number : 2\n",
      "Accuracy score is : 0.6818181818181818 \n",
      "\n",
      "Confusion Matrix is :\n",
      "\n",
      " [[2 1 0 0 0 0]\n",
      " [4 6 0 0 0 0]\n",
      " [1 0 2 0 0 0]\n",
      " [0 0 0 2 0 0]\n",
      " [0 0 0 0 2 0]\n",
      " [1 0 0 0 0 1]]\n",
      "\n",
      "Classification Report is as follows :\n",
      "\n",
      "              precision    recall  f1-score   support\n",
      "\n",
      "         1.0       0.25      0.67      0.36         3\n",
      "         2.0       0.86      0.60      0.71        10\n",
      "         3.0       1.00      0.67      0.80         3\n",
      "         5.0       1.00      1.00      1.00         2\n",
      "         6.0       1.00      1.00      1.00         2\n",
      "         7.0       1.00      0.50      0.67         2\n",
      "\n",
      "    accuracy                           0.68        22\n",
      "   macro avg       0.85      0.74      0.76        22\n",
      "weighted avg       0.83      0.68      0.72        22\n",
      "\n",
      "------------------------------------------------------------------------------------------\n",
      "Test set is fold number : 3\n",
      "Accuracy score is : 0.8181818181818182 \n",
      "\n",
      "Confusion Matrix is :\n",
      "\n",
      " [[9 1 0 0 0]\n",
      " [0 4 1 0 0]\n",
      " [1 0 1 0 0]\n",
      " [0 0 0 1 1]\n",
      " [0 0 0 0 3]]\n",
      "\n",
      "Classification Report is as follows :\n",
      "\n",
      "              precision    recall  f1-score   support\n",
      "\n",
      "         1.0       0.90      0.90      0.90        10\n",
      "         2.0       0.80      0.80      0.80         5\n",
      "         3.0       0.50      0.50      0.50         2\n",
      "         5.0       1.00      0.50      0.67         2\n",
      "         7.0       0.75      1.00      0.86         3\n",
      "\n",
      "    accuracy                           0.82        22\n",
      "   macro avg       0.79      0.74      0.74        22\n",
      "weighted avg       0.83      0.82      0.81        22\n",
      "\n",
      "------------------------------------------------------------------------------------------\n",
      "Test set is fold number : 4\n",
      "Accuracy score is : 0.6363636363636364 \n",
      "\n",
      "Confusion Matrix is :\n",
      "\n",
      " [[8 3 0 0 0 0]\n",
      " [2 2 1 0 0 1]\n",
      " [0 0 0 0 0 0]\n",
      " [0 0 0 1 0 1]\n",
      " [0 0 0 0 1 0]\n",
      " [0 0 0 0 0 2]]\n",
      "\n",
      "Classification Report is as follows :\n",
      "\n",
      "              precision    recall  f1-score   support\n",
      "\n",
      "         1.0       0.80      0.73      0.76        11\n",
      "         2.0       0.40      0.33      0.36         6\n",
      "         3.0       0.00      0.00      0.00         0\n",
      "         5.0       1.00      0.50      0.67         2\n",
      "         6.0       1.00      1.00      1.00         1\n",
      "         7.0       0.50      1.00      0.67         2\n",
      "\n",
      "    accuracy                           0.64        22\n",
      "   macro avg       0.62      0.59      0.58        22\n",
      "weighted avg       0.69      0.64      0.65        22\n",
      "\n",
      "------------------------------------------------------------------------------------------\n",
      "Test set is fold number : 5\n",
      "Accuracy score is : 0.5714285714285714 \n",
      "\n",
      "Confusion Matrix is :\n",
      "\n",
      " [[8 1 0 0 0]\n",
      " [4 3 0 0 0]\n",
      " [1 1 0 0 0]\n",
      " [0 1 0 0 0]\n",
      " [0 0 0 1 1]]\n",
      "\n",
      "Classification Report is as follows :\n",
      "\n",
      "              precision    recall  f1-score   support\n",
      "\n",
      "         1.0       0.62      0.89      0.73         9\n",
      "         2.0       0.50      0.43      0.46         7\n",
      "         3.0       0.00      0.00      0.00         2\n",
      "         5.0       0.00      0.00      0.00         1\n",
      "         7.0       1.00      0.50      0.67         2\n",
      "\n",
      "    accuracy                           0.57        21\n",
      "   macro avg       0.42      0.36      0.37        21\n",
      "weighted avg       0.53      0.57      0.53        21\n",
      "\n",
      "------------------------------------------------------------------------------------------\n",
      "Test set is fold number : 6\n",
      "Accuracy score is : 0.6666666666666666 \n",
      "\n",
      "Confusion Matrix is :\n",
      "\n",
      " [[2 1 0 0 0 0]\n",
      " [0 4 4 0 0 0]\n",
      " [0 0 1 0 0 0]\n",
      " [0 0 0 0 0 0]\n",
      " [0 1 0 0 1 0]\n",
      " [0 0 0 1 0 6]]\n",
      "\n",
      "Classification Report is as follows :\n",
      "\n",
      "              precision    recall  f1-score   support\n",
      "\n",
      "         1.0       1.00      0.67      0.80         3\n",
      "         2.0       0.67      0.50      0.57         8\n",
      "         3.0       0.20      1.00      0.33         1\n",
      "         5.0       0.00      0.00      0.00         0\n",
      "         6.0       1.00      0.50      0.67         2\n",
      "         7.0       1.00      0.86      0.92         7\n",
      "\n",
      "    accuracy                           0.67        21\n",
      "   macro avg       0.64      0.59      0.55        21\n",
      "weighted avg       0.83      0.67      0.72        21\n",
      "\n",
      "------------------------------------------------------------------------------------------\n",
      "Test set is fold number : 7\n",
      "Accuracy score is : 0.7619047619047619 \n",
      "\n",
      "Confusion Matrix is :\n",
      "\n",
      " [[7 0 0 0 0]\n",
      " [2 5 0 0 0]\n",
      " [0 1 0 0 0]\n",
      " [0 0 0 1 0]\n",
      " [1 1 0 0 3]]\n",
      "\n",
      "Classification Report is as follows :\n",
      "\n",
      "              precision    recall  f1-score   support\n",
      "\n",
      "         1.0       0.70      1.00      0.82         7\n",
      "         2.0       0.71      0.71      0.71         7\n",
      "         3.0       0.00      0.00      0.00         1\n",
      "         5.0       1.00      1.00      1.00         1\n",
      "         7.0       1.00      0.60      0.75         5\n",
      "\n",
      "    accuracy                           0.76        21\n",
      "   macro avg       0.68      0.66      0.66        21\n",
      "weighted avg       0.76      0.76      0.74        21\n",
      "\n",
      "------------------------------------------------------------------------------------------\n",
      "Test set is fold number : 8\n",
      "Accuracy score is : 0.7619047619047619 \n",
      "\n",
      "Confusion Matrix is :\n",
      "\n",
      " [[5 1 0 0 0]\n",
      " [2 6 0 0 0]\n",
      " [1 1 0 0 0]\n",
      " [0 0 0 3 0]\n",
      " [0 0 0 0 2]]\n",
      "\n",
      "Classification Report is as follows :\n",
      "\n",
      "              precision    recall  f1-score   support\n",
      "\n",
      "         1.0       0.62      0.83      0.71         6\n",
      "         2.0       0.75      0.75      0.75         8\n",
      "         3.0       0.00      0.00      0.00         2\n",
      "         5.0       1.00      1.00      1.00         3\n",
      "         7.0       1.00      1.00      1.00         2\n",
      "\n",
      "    accuracy                           0.76        21\n",
      "   macro avg       0.68      0.72      0.69        21\n",
      "weighted avg       0.70      0.76      0.73        21\n",
      "\n",
      "------------------------------------------------------------------------------------------\n",
      "Test set is fold number : 9\n",
      "Accuracy score is : 0.5714285714285714 \n",
      "\n",
      "Confusion Matrix is :\n",
      "\n",
      " [[6 1 0 0 0]\n",
      " [3 4 0 2 0]\n",
      " [2 0 0 0 0]\n",
      " [0 0 0 0 1]\n",
      " [0 0 0 0 2]]\n",
      "\n",
      "Classification Report is as follows :\n",
      "\n",
      "              precision    recall  f1-score   support\n",
      "\n",
      "         1.0       0.55      0.86      0.67         7\n",
      "         2.0       0.80      0.44      0.57         9\n",
      "         3.0       0.00      0.00      0.00         2\n",
      "         6.0       0.00      0.00      0.00         1\n",
      "         7.0       0.67      1.00      0.80         2\n",
      "\n",
      "    accuracy                           0.57        21\n",
      "   macro avg       0.40      0.46      0.41        21\n",
      "weighted avg       0.59      0.57      0.54        21\n",
      "\n",
      "------------------------------------------------------------------------------------------\n",
      "Test set is fold number : 10\n",
      "Accuracy score is : 0.7619047619047619 \n",
      "\n",
      "Confusion Matrix is :\n",
      "\n",
      " [[5 0 0 0 0 0]\n",
      " [1 6 0 1 0 0]\n",
      " [0 1 1 0 0 0]\n",
      " [0 0 0 1 0 0]\n",
      " [0 0 0 0 1 2]\n",
      " [0 0 0 0 0 2]]\n",
      "\n",
      "Classification Report is as follows :\n",
      "\n",
      "              precision    recall  f1-score   support\n",
      "\n",
      "         1.0       0.83      1.00      0.91         5\n",
      "         2.0       0.86      0.75      0.80         8\n",
      "         3.0       1.00      0.50      0.67         2\n",
      "         5.0       0.50      1.00      0.67         1\n",
      "         6.0       1.00      0.33      0.50         3\n",
      "         7.0       0.50      1.00      0.67         2\n",
      "\n",
      "    accuracy                           0.76        21\n",
      "   macro avg       0.78      0.76      0.70        21\n",
      "weighted avg       0.83      0.76      0.75        21\n",
      "\n",
      "------------------------------------------------------------------------------------------\n",
      "Variance of the test accuracy error is 0.007369146005509643\n"
     ]
    },
    {
     "name": "stderr",
     "output_type": "stream",
     "text": [
      "C:\\Users\\VIBHU GOYAL\\anaconda3\\lib\\site-packages\\sklearn\\metrics\\_classification.py:1272: UndefinedMetricWarning: Recall and F-score are ill-defined and being set to 0.0 in labels with no true samples. Use `zero_division` parameter to control this behavior.\n",
      "  _warn_prf(average, modifier, msg_start, len(result))\n",
      "C:\\Users\\VIBHU GOYAL\\anaconda3\\lib\\site-packages\\sklearn\\metrics\\_classification.py:1272: UndefinedMetricWarning: Recall and F-score are ill-defined and being set to 0.0 in labels with no true samples. Use `zero_division` parameter to control this behavior.\n",
      "  _warn_prf(average, modifier, msg_start, len(result))\n",
      "C:\\Users\\VIBHU GOYAL\\anaconda3\\lib\\site-packages\\sklearn\\metrics\\_classification.py:1272: UndefinedMetricWarning: Precision and F-score are ill-defined and being set to 0.0 in labels with no predicted samples. Use `zero_division` parameter to control this behavior.\n",
      "  _warn_prf(average, modifier, msg_start, len(result))\n",
      "C:\\Users\\VIBHU GOYAL\\anaconda3\\lib\\site-packages\\sklearn\\metrics\\_classification.py:1272: UndefinedMetricWarning: Recall and F-score are ill-defined and being set to 0.0 in labels with no true samples. Use `zero_division` parameter to control this behavior.\n",
      "  _warn_prf(average, modifier, msg_start, len(result))\n",
      "C:\\Users\\VIBHU GOYAL\\anaconda3\\lib\\site-packages\\sklearn\\metrics\\_classification.py:1272: UndefinedMetricWarning: Precision and F-score are ill-defined and being set to 0.0 in labels with no predicted samples. Use `zero_division` parameter to control this behavior.\n",
      "  _warn_prf(average, modifier, msg_start, len(result))\n",
      "C:\\Users\\VIBHU GOYAL\\anaconda3\\lib\\site-packages\\sklearn\\metrics\\_classification.py:1272: UndefinedMetricWarning: Precision and F-score are ill-defined and being set to 0.0 in labels with no predicted samples. Use `zero_division` parameter to control this behavior.\n",
      "  _warn_prf(average, modifier, msg_start, len(result))\n",
      "C:\\Users\\VIBHU GOYAL\\anaconda3\\lib\\site-packages\\sklearn\\metrics\\_classification.py:1272: UndefinedMetricWarning: Precision and F-score are ill-defined and being set to 0.0 in labels with no predicted samples. Use `zero_division` parameter to control this behavior.\n",
      "  _warn_prf(average, modifier, msg_start, len(result))\n"
     ]
    }
   ],
   "source": [
    "\n",
    "## making our folds\n",
    "\n",
    "k = 10\n",
    "folds = np.array_split(df, k)\n",
    "\n",
    "## function to perform our accuracy testing\n",
    "\n",
    "def perform(Train, test):\n",
    "    # remove labels from data\n",
    "    \"\"\"\n",
    "    train_labels = train_set.pop('class').values\n",
    "    test_labels = test_set.pop('class').values\n",
    "    clf.fit(train_set, train_labels)\n",
    "    \n",
    "    print(\"Accuracy Score is:\",clf.score(test_set, test_labels))\n",
    "    \"\"\"\n",
    "    \n",
    "    X_train=Train.values[:,:7]\n",
    "    X_test=Train.values[:,7]\n",
    "    y_train=test.values[:,:7]\n",
    "    y_test=test.values[:,7]\n",
    "    \n",
    "    dc = DecisionTreeClassifier(max_depth=5,criterion='gini',random_state=60)\n",
    "    dc.fit(X_train,X_test)\n",
    "    y_pred = dc.predict(y_train) # getting predictions from the classifier\n",
    "    \n",
    "    \n",
    "    print(\"Accuracy score is :\",accuracy_score(y_test,y_pred),'\\n') # calculating accuracy\n",
    "    print(\"Confusion Matrix is :\\n\\n\",confusion_matrix(y_test,y_pred))\n",
    "    print(\"\\nClassification Report is as follows :\\n\")\n",
    "    print(classification_report(y_test,y_pred))\n",
    "    \n",
    "    return accuracy_score(y_test,y_pred)\n",
    "\n",
    "variance_arr=[0]*10\n",
    "\n",
    "for i in range(k):\n",
    "    train = folds.copy() ##you wanna work on a copy of your array\n",
    "    test = folds[i]\n",
    "    del train[i]\n",
    "    train = pd.concat(train, sort=False)\n",
    "    print(\"Test set is fold number :\",i+1)\n",
    "    variance_arr[i]= perform(train.copy(), test.copy()) ##do the fitting, here you also want to copy\n",
    "    print(\"------------------------------------------------------------------------------------------\")\n",
    "    \n",
    "import statistics\n",
    "res=statistics.variance(variance_arr)\n",
    "print(\"Variance of the test accuracy error is\",res)\n",
    "    \n",
    "##In this function you remove the label column from your sets and fit the scikit-classifier (clf) and then return the prediction.\n",
    "\n"
   ]
  },
  {
   "cell_type": "code",
   "execution_count": 20,
   "metadata": {},
   "outputs": [
    {
     "name": "stdout",
     "output_type": "stream",
     "text": [
      "Variance of the test accuracy error is 0.007369146005509643\n"
     ]
    }
   ],
   "source": [
    "import statistics\n",
    "res=statistics.variance(variance_arr)\n",
    "print(\"Variance of the test accuracy error is\",res)"
   ]
  },
  {
   "cell_type": "code",
   "execution_count": null,
   "metadata": {},
   "outputs": [],
   "source": []
  }
 ],
 "metadata": {
  "kernelspec": {
   "display_name": "Python 3",
   "language": "python",
   "name": "python3"
  },
  "language_info": {
   "codemirror_mode": {
    "name": "ipython",
    "version": 3
   },
   "file_extension": ".py",
   "mimetype": "text/x-python",
   "name": "python",
   "nbconvert_exporter": "python",
   "pygments_lexer": "ipython3",
   "version": "3.7.6"
  }
 },
 "nbformat": 4,
 "nbformat_minor": 4
}
